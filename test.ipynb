{
 "cells": [
  {
   "cell_type": "code",
   "execution_count": 1,
   "metadata": {},
   "outputs": [
    {
     "name": "stderr",
     "output_type": "stream",
     "text": [
      "/Users/vincent/Projects/專四下/進階AI課程/Prompt_Tuning_Stable_Diffusion/venv/lib/python3.9/site-packages/urllib3/__init__.py:35: NotOpenSSLWarning: urllib3 v2 only supports OpenSSL 1.1.1+, currently the 'ssl' module is compiled with 'LibreSSL 2.8.3'. See: https://github.com/urllib3/urllib3/issues/3020\n",
      "  warnings.warn(\n",
      "/Users/vincent/Projects/專四下/進階AI課程/Prompt_Tuning_Stable_Diffusion/venv/lib/python3.9/site-packages/sentence_transformers/cross_encoder/CrossEncoder.py:11: TqdmWarning: IProgress not found. Please update jupyter and ipywidgets. See https://ipywidgets.readthedocs.io/en/stable/user_install.html\n",
      "  from tqdm.autonotebook import tqdm, trange\n"
     ]
    }
   ],
   "source": [
    "from utils.LLM import RetrievalWithPrompt, IsGenerationalRequest, GenerateDescriptions, GenerateStyle"
   ]
  },
  {
   "cell_type": "code",
   "execution_count": 2,
   "metadata": {},
   "outputs": [
    {
     "name": "stderr",
     "output_type": "stream",
     "text": [
      "/Users/vincent/Projects/專四下/進階AI課程/Prompt_Tuning_Stable_Diffusion/venv/lib/python3.9/site-packages/huggingface_hub/file_download.py:1132: FutureWarning: `resume_download` is deprecated and will be removed in version 1.0.0. Downloads always resume when possible. If you want to force a new download, use `force_download=True`.\n",
      "  warnings.warn(\n"
     ]
    }
   ],
   "source": [
    "# mode: 1=>remote sever 2=>local server\n",
    "retriever = RetrievalWithPrompt(mode=1) "
   ]
  },
  {
   "cell_type": "code",
   "execution_count": 3,
   "metadata": {},
   "outputs": [
    {
     "data": {
      "text/plain": [
       "[Document(page_content='Cat with human feet', metadata={'url': 'https://image.lexica.art/full_jpg/007078fb-1faa-4749-807a-ea385acf50cb', 'source_site': 'lexica.art'}),\n",
       " Document(page_content='a cat with boots', metadata={'url': 'https://image.lexica.art/full_jpg/00b8c78a-91b2-4486-a7f4-bf1cc2a1c21f', 'source_site': 'lexica.art'}),\n",
       " Document(page_content='A dog', metadata={'url': 'https://image.lexica.art/full_jpg/00182afa-53be-4b3e-8c57-86716b7a43d2', 'source_site': 'lexica.art'}),\n",
       " Document(page_content='a bat', metadata={'url': 'https://image.lexica.art/full_jpg/00008e13-e862-45e3-810b-c0087f7b5968', 'source_site': 'lexica.art'})]"
      ]
     },
     "execution_count": 3,
     "metadata": {},
     "output_type": "execute_result"
    }
   ],
   "source": [
    "retriever.invoke(\"a cat\")"
   ]
  },
  {
   "cell_type": "code",
   "execution_count": 12,
   "metadata": {},
   "outputs": [],
   "source": [
    "judge = IsGenerationalRequest()"
   ]
  },
  {
   "cell_type": "code",
   "execution_count": 13,
   "metadata": {},
   "outputs": [
    {
     "data": {
      "text/plain": [
       "{'result': 'no'}"
      ]
     },
     "execution_count": 13,
     "metadata": {},
     "output_type": "execute_result"
    }
   ],
   "source": [
    "judge.invoke(\"a cat run on the street\")"
   ]
  },
  {
   "cell_type": "code",
   "execution_count": null,
   "metadata": {},
   "outputs": [],
   "source": [
    "description_advisor = GenerateDescriptions()"
   ]
  },
  {
   "cell_type": "code",
   "execution_count": null,
   "metadata": {},
   "outputs": [
    {
     "name": "stdout",
     "output_type": "stream",
     "text": [
      "{'result': [\"Whiskered feline zips down sidewalk's cracked pavement\", 'Grey cat with bright green eyes sprints past pedestrians', 'Furry bundle of energy darts between parked cars']}\n"
     ]
    }
   ],
   "source": [
    "print(description_advisor.invoke(\"a cat is running on the street\"))"
   ]
  },
  {
   "cell_type": "code",
   "execution_count": null,
   "metadata": {},
   "outputs": [],
   "source": [
    "style_advisor = GenerateStyle()"
   ]
  },
  {
   "cell_type": "code",
   "execution_count": null,
   "metadata": {},
   "outputs": [
    {
     "name": "stdout",
     "output_type": "stream",
     "text": [
      "{'result': ['Stylized', 'Impressionist', 'Minimalist', 'Watercolor', 'Abstract', 'Pixelated']}\n"
     ]
    }
   ],
   "source": [
    "print(style_advisor.invoke(\"a cat is running on the street\"))"
   ]
  },
  {
   "cell_type": "code",
   "execution_count": null,
   "metadata": {},
   "outputs": [],
   "source": []
  }
 ],
 "metadata": {
  "kernelspec": {
   "display_name": ".venv",
   "language": "python",
   "name": "python3"
  },
  "language_info": {
   "codemirror_mode": {
    "name": "ipython",
    "version": 3
   },
   "file_extension": ".py",
   "mimetype": "text/x-python",
   "name": "python",
   "nbconvert_exporter": "python",
   "pygments_lexer": "ipython3",
   "version": "3.9.6"
  }
 },
 "nbformat": 4,
 "nbformat_minor": 2
}
