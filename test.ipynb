{
 "cells": [
  {
   "cell_type": "code",
   "execution_count": 24,
   "metadata": {},
   "outputs": [],
   "source": [
    "from utils.LLM import RetrievalWithPrompt, IsGenerationalRequest, GenerateDescriptions, GenerateStyle"
   ]
  },
  {
   "cell_type": "code",
   "execution_count": 25,
   "metadata": {},
   "outputs": [
    {
     "name": "stderr",
     "output_type": "stream",
     "text": [
      "/Users/vincent/Projects/專四下/進階AI課程/Prompt_Tuning_Stable_Diffusion/venv/lib/python3.9/site-packages/huggingface_hub/file_download.py:1132: FutureWarning: `resume_download` is deprecated and will be removed in version 1.0.0. Downloads always resume when possible. If you want to force a new download, use `force_download=True`.\n",
      "  warnings.warn(\n"
     ]
    }
   ],
   "source": [
    "# mode: 1=>remote sever 2=>local server\n",
    "retriever = RetrievalWithPrompt(mode=2) "
   ]
  },
  {
   "cell_type": "code",
   "execution_count": 26,
   "metadata": {},
   "outputs": [
    {
     "data": {
      "text/plain": [
       "[Document(page_content='Cat with human feet', metadata={'url': 'https://image.lexica.art/full_jpg/007078fb-1faa-4749-807a-ea385acf50cb', 'source_site': 'lexica.art'}),\n",
       " Document(page_content='a cat with boots', metadata={'url': 'https://image.lexica.art/full_jpg/00b8c78a-91b2-4486-a7f4-bf1cc2a1c21f', 'source_site': 'lexica.art'}),\n",
       " Document(page_content='A dog', metadata={'url': 'https://image.lexica.art/full_jpg/00182afa-53be-4b3e-8c57-86716b7a43d2', 'source_site': 'lexica.art'}),\n",
       " Document(page_content='a bat', metadata={'url': 'https://image.lexica.art/full_jpg/00008e13-e862-45e3-810b-c0087f7b5968', 'source_site': 'lexica.art'})]"
      ]
     },
     "execution_count": 26,
     "metadata": {},
     "output_type": "execute_result"
    }
   ],
   "source": [
    "retriever.invoke(\"a cat\")"
   ]
  },
  {
   "cell_type": "code",
   "execution_count": 27,
   "metadata": {},
   "outputs": [],
   "source": [
    "judge = IsGenerationalRequest()"
   ]
  },
  {
   "cell_type": "code",
   "execution_count": 28,
   "metadata": {},
   "outputs": [
    {
     "data": {
      "text/plain": [
       "{'result': 'no'}"
      ]
     },
     "execution_count": 28,
     "metadata": {},
     "output_type": "execute_result"
    }
   ],
   "source": [
    "judge.invoke(\"a cat run on the street\")"
   ]
  },
  {
   "cell_type": "code",
   "execution_count": 29,
   "metadata": {},
   "outputs": [],
   "source": [
    "description_advisor = GenerateDescriptions()"
   ]
  },
  {
   "cell_type": "code",
   "execution_count": 30,
   "metadata": {},
   "outputs": [
    {
     "name": "stdout",
     "output_type": "stream",
     "text": [
      "{'result': ['A sleek black cat, ears flapping wildly, darts', \"The feline's grey fur glistens in sunlight as\", 'With a burst of speed, the tabby cat']}\n"
     ]
    }
   ],
   "source": [
    "print(description_advisor.invoke(\"a cat is running on the street\"))"
   ]
  },
  {
   "cell_type": "code",
   "execution_count": 31,
   "metadata": {},
   "outputs": [],
   "source": [
    "style_advisor = GenerateStyle()"
   ]
  },
  {
   "cell_type": "code",
   "execution_count": 32,
   "metadata": {},
   "outputs": [
    {
     "name": "stdout",
     "output_type": "stream",
     "text": [
      "{'result': ['Watercolor', 'Sketchy', 'Pixelated', 'Minimalist', 'Impressionist', 'Cartoonish']}\n"
     ]
    }
   ],
   "source": [
    "print(style_advisor.invoke(\"a cat is running on the street\"))"
   ]
  },
  {
   "cell_type": "code",
   "execution_count": null,
   "metadata": {},
   "outputs": [],
   "source": []
  }
 ],
 "metadata": {
  "kernelspec": {
   "display_name": ".venv",
   "language": "python",
   "name": "python3"
  },
  "language_info": {
   "codemirror_mode": {
    "name": "ipython",
    "version": 3
   },
   "file_extension": ".py",
   "mimetype": "text/x-python",
   "name": "python",
   "nbconvert_exporter": "python",
   "pygments_lexer": "ipython3",
   "version": "3.9.6"
  }
 },
 "nbformat": 4,
 "nbformat_minor": 2
}
