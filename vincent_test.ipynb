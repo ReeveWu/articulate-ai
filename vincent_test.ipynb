{
 "cells": [
  {
   "cell_type": "code",
   "execution_count": 2,
   "metadata": {},
   "outputs": [],
   "source": [
    "from utils.LLM import RetrievalWithPrompt, IsGenerationalRequest, GenerateDescriptions, GenerateStyle"
   ]
  },
  {
   "cell_type": "code",
   "execution_count": 3,
   "metadata": {},
   "outputs": [
    {
     "name": "stderr",
     "output_type": "stream",
     "text": [
      "/Users/vincent/Projects/專四下/進階AI課程/Prompt_Tuning_Stable_Diffusion/venv/lib/python3.9/site-packages/huggingface_hub/file_download.py:1132: FutureWarning: `resume_download` is deprecated and will be removed in version 1.0.0. Downloads always resume when possible. If you want to force a new download, use `force_download=True`.\n",
      "  warnings.warn(\n"
     ]
    }
   ],
   "source": [
    "# mode: 1=>remote sever 2=>local server\n",
    "retriever = RetrievalWithPrompt(mode=2) "
   ]
  },
  {
   "cell_type": "code",
   "execution_count": 4,
   "metadata": {},
   "outputs": [
    {
     "data": {
      "text/plain": [
       "[Document(page_content='Cat with human feet', metadata={'url': 'https://image.lexica.art/full_jpg/007078fb-1faa-4749-807a-ea385acf50cb', 'source_site': 'lexica.art'}),\n",
       " Document(page_content='a cat with boots', metadata={'url': 'https://image.lexica.art/full_jpg/00b8c78a-91b2-4486-a7f4-bf1cc2a1c21f', 'source_site': 'lexica.art'}),\n",
       " Document(page_content='A dog', metadata={'url': 'https://image.lexica.art/full_jpg/00182afa-53be-4b3e-8c57-86716b7a43d2', 'source_site': 'lexica.art'}),\n",
       " Document(page_content='a bat', metadata={'url': 'https://image.lexica.art/full_jpg/00008e13-e862-45e3-810b-c0087f7b5968', 'source_site': 'lexica.art'})]"
      ]
     },
     "execution_count": 4,
     "metadata": {},
     "output_type": "execute_result"
    }
   ],
   "source": [
    "retriever.invoke(\"a cat\")"
   ]
  },
  {
   "cell_type": "code",
   "execution_count": 5,
   "metadata": {},
   "outputs": [],
   "source": [
    "judge = IsGenerationalRequest()"
   ]
  },
  {
   "cell_type": "code",
   "execution_count": null,
   "metadata": {},
   "outputs": [],
   "source": []
  },
  {
   "cell_type": "code",
   "execution_count": 6,
   "metadata": {},
   "outputs": [
    {
     "data": {
      "text/plain": [
       "{'result': 'no'}"
      ]
     },
     "execution_count": 6,
     "metadata": {},
     "output_type": "execute_result"
    }
   ],
   "source": [
    "judge.invoke(\"a cat run on the street\")"
   ]
  },
  {
   "cell_type": "code",
   "execution_count": 7,
   "metadata": {},
   "outputs": [],
   "source": [
    "description_advisor = GenerateDescriptions()"
   ]
  },
  {
   "cell_type": "code",
   "execution_count": 12,
   "metadata": {},
   "outputs": [
    {
     "name": "stdout",
     "output_type": "stream",
     "text": [
      "{'result': [\"Scene 1:\\nA sleek black cat with shimmering emeralds for eyes darts down the cobblestone street, its tail held high like a banner as it chases after a fluttering feather. The evening sunlight casts long shadows behind the ancient buildings, and the sound of laughter and chatter from the nearby café mingles with the cat's playful meows as it weaves in and out of pedestrians' legs.\\n\\nScene 2:\\nA golden-hued tabby cat with a fluffy mane bursts onto the asphalt, its paws barely touching the ground as it hurtles forward like a furry bullet. The city's neon lights reflect off its whiskers, casting a mesmerizing glow across the wet pavement. A scattering of autumn leaves and discarded trash cans create a colorful obstacle course for the cat to navigate as it pursues an elusive ball of yarn.\\n\\nScene 3:\\nA sleek grey cat with piercing green eyes zooms past the street performers, who pause their juggling and music-making to watch in awe as the agile feline dodges between the legs of pedestrians and leaps over a puddle. The air is thick with the smell of freshly baked bread wafting from the nearby bakery, and the sound of children's laughter carries on the breeze as the cat darts through the midst of a street festival, its playful pounces sending confetti and streamers flying.\"]}\n"
     ]
    }
   ],
   "source": [
    "print(description_advisor.invoke(\"a cat is running on the street\"))"
   ]
  },
  {
   "cell_type": "code",
   "execution_count": 10,
   "metadata": {},
   "outputs": [],
   "source": [
    "style_advisor = GenerateStyle()"
   ]
  },
  {
   "cell_type": "code",
   "execution_count": 11,
   "metadata": {},
   "outputs": [
    {
     "name": "stdout",
     "output_type": "stream",
     "text": [
      "{'result': ['Impressionist', 'Surrealist', 'Minimalist', 'Watercolor', 'Graffiti', 'PixelArt']}\n"
     ]
    }
   ],
   "source": [
    "print(style_advisor.invoke(\"a cat is running on the street\"))"
   ]
  }
 ],
 "metadata": {
  "kernelspec": {
   "display_name": "venv",
   "language": "python",
   "name": "python3"
  },
  "language_info": {
   "codemirror_mode": {
    "name": "ipython",
    "version": 3
   },
   "file_extension": ".py",
   "mimetype": "text/x-python",
   "name": "python",
   "nbconvert_exporter": "python",
   "pygments_lexer": "ipython3",
   "version": "3.9.6"
  }
 },
 "nbformat": 4,
 "nbformat_minor": 2
}
