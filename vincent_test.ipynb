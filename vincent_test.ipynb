{
 "cells": [
  {
   "cell_type": "code",
   "execution_count": 1,
   "metadata": {},
   "outputs": [
    {
     "name": "stderr",
     "output_type": "stream",
     "text": [
      "/Users/vincent/Projects/專四下/進階AI課程/Prompt_Tuning_Stable_Diffusion/venv/lib/python3.9/site-packages/urllib3/__init__.py:35: NotOpenSSLWarning: urllib3 v2 only supports OpenSSL 1.1.1+, currently the 'ssl' module is compiled with 'LibreSSL 2.8.3'. See: https://github.com/urllib3/urllib3/issues/3020\n",
      "  warnings.warn(\n",
      "/Users/vincent/Projects/專四下/進階AI課程/Prompt_Tuning_Stable_Diffusion/venv/lib/python3.9/site-packages/sentence_transformers/cross_encoder/CrossEncoder.py:11: TqdmWarning: IProgress not found. Please update jupyter and ipywidgets. See https://ipywidgets.readthedocs.io/en/stable/user_install.html\n",
      "  from tqdm.autonotebook import tqdm, trange\n"
     ]
    }
   ],
   "source": [
    "from utils.LLM import RetrievalWithPrompt, IsGenerationalRequest, GenerateDescriptions, GenerateStyle, StyleCommandDistinguisher"
   ]
  },
  {
   "cell_type": "code",
   "execution_count": 2,
   "metadata": {},
   "outputs": [
    {
     "name": "stderr",
     "output_type": "stream",
     "text": [
      "/Users/vincent/Projects/專四下/進階AI課程/Prompt_Tuning_Stable_Diffusion/venv/lib/python3.9/site-packages/huggingface_hub/file_download.py:1132: FutureWarning: `resume_download` is deprecated and will be removed in version 1.0.0. Downloads always resume when possible. If you want to force a new download, use `force_download=True`.\n",
      "  warnings.warn(\n"
     ]
    }
   ],
   "source": [
    "# mode: 1=>remote sever 2=>local server\n",
    "retriever = RetrievalWithPrompt(mode=2) "
   ]
  },
  {
   "cell_type": "code",
   "execution_count": 3,
   "metadata": {},
   "outputs": [
    {
     "data": {
      "text/plain": [
       "[Document(page_content='a mix between a cat and a dog', metadata={'url': 'https://image.lexica.art/full_jpg/05058511-9713-4fa3-a56a-9d7e50fda8f1', 'source_site': 'lexica.art'}),\n",
       " Document(page_content='a mix of dog and cat', metadata={'url': 'https://image.lexica.art/full_jpg/2d7cb7ce-69fd-4da7-a3d8-79fc3821ed9f', 'source_site': 'lexica.art'}),\n",
       " Document(page_content='Cat with human feet', metadata={'url': 'https://image.lexica.art/full_jpg/007078fb-1faa-4749-807a-ea385acf50cb', 'source_site': 'lexica.art'}),\n",
       " Document(page_content='A cat wird red Skin', metadata={'url': 'https://image.lexica.art/full_jpg/27669c62-a5e5-47c2-808c-76f1871b4047', 'source_site': 'lexica.art'})]"
      ]
     },
     "execution_count": 3,
     "metadata": {},
     "output_type": "execute_result"
    }
   ],
   "source": [
    "retriever.invoke(\"a cat\")"
   ]
  },
  {
   "cell_type": "code",
   "execution_count": 4,
   "metadata": {},
   "outputs": [],
   "source": [
    "judge = IsGenerationalRequest()"
   ]
  },
  {
   "cell_type": "code",
   "execution_count": 5,
   "metadata": {},
   "outputs": [
    {
     "data": {
      "text/plain": [
       "{'result': 'no'}"
      ]
     },
     "execution_count": 5,
     "metadata": {},
     "output_type": "execute_result"
    }
   ],
   "source": [
    "judge.invoke(\"a cat run on the street\")"
   ]
  },
  {
   "cell_type": "code",
   "execution_count": 6,
   "metadata": {},
   "outputs": [],
   "source": [
    "description_advisor = GenerateDescriptions()"
   ]
  },
  {
   "cell_type": "code",
   "execution_count": 7,
   "metadata": {},
   "outputs": [
    {
     "data": {
      "text/plain": [
       "{'result': ['Sunlit pavement glistens as a sleek black cat, ears perked, chases after a fluttering leaf down the bustling city street.',\n",
       "  'A tiny ball of fluff with piercing green eyes darts across the wet asphalt, its tail streaming behind like a banner as it pursues a tantalizing laser pointer.',\n",
       "  'In the midst of morning rush hour, a furry grey blur zips past pedestrians, paws pounding the pavement in a joyful game of tag with an invisible partner.']}"
      ]
     },
     "execution_count": 7,
     "metadata": {},
     "output_type": "execute_result"
    }
   ],
   "source": [
    "description_advisor.invoke(\"a cat is running on the street\")"
   ]
  },
  {
   "cell_type": "code",
   "execution_count": 8,
   "metadata": {},
   "outputs": [],
   "source": [
    "# error_counter = 0\n",
    "# empty_counter = 0\n",
    "\n",
    "# for i in range(100):\n",
    "#     try:\n",
    "#         ans = description_advisor.invoke(\"a cat is running on the street\")\n",
    "#         # print(ans)\n",
    "#         if ans == {}:\n",
    "#             empty_counter += 1\n",
    "#     except:\n",
    "#         error_counter += 1\n",
    "\n",
    "# print(f\"empty_counter: {empty_counter}\")\n",
    "# print(f\"error_counter: {error_counter}\")"
   ]
  },
  {
   "cell_type": "code",
   "execution_count": 9,
   "metadata": {},
   "outputs": [
    {
     "name": "stdout",
     "output_type": "stream",
     "text": [
      "{'result': ['Comic', 'Impressionist', 'Realist', 'Minimalist', 'Surrealist', 'Abstract']}\n"
     ]
    }
   ],
   "source": [
    "style_advisor = GenerateStyle()\n",
    "print(style_advisor.invoke(\"a cat is running on the street\"))"
   ]
  },
  {
   "cell_type": "code",
   "execution_count": 13,
   "metadata": {},
   "outputs": [
    {
     "name": "stdout",
     "output_type": "stream",
     "text": [
      "{'mode': 'preview', 'style': 'Watercolor'}\n",
      "{'mode': 'add', 'style': 'anime'}\n",
      "{'mode': 'final', 'style': ''}\n",
      "{'mode': 'add', 'style': 'oil painting'}\n"
     ]
    }
   ],
   "source": [
    "style_command_distinguisher = StyleCommandDistinguisher()\n",
    "print(style_command_distinguisher.invoke(\"I want a preview of the style of Watercolor\"))\n",
    "print(style_command_distinguisher.invoke(\"I want to try out the style of anime\"))\n",
    "print(style_command_distinguisher.invoke(\"I want to see the final result\"))\n",
    "print(style_command_distinguisher.invoke(\"add the style of oil painting\"))\n"
   ]
  },
  {
   "cell_type": "code",
   "execution_count": null,
   "metadata": {},
   "outputs": [],
   "source": []
  }
 ],
 "metadata": {
  "kernelspec": {
   "display_name": "venv",
   "language": "python",
   "name": "python3"
  },
  "language_info": {
   "codemirror_mode": {
    "name": "ipython",
    "version": 3
   },
   "file_extension": ".py",
   "mimetype": "text/x-python",
   "name": "python",
   "nbconvert_exporter": "python",
   "pygments_lexer": "ipython3",
   "version": "3.9.6"
  }
 },
 "nbformat": 4,
 "nbformat_minor": 2
}
