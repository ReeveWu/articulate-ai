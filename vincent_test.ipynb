{
 "cells": [
  {
   "cell_type": "code",
   "execution_count": 1,
   "metadata": {},
   "outputs": [
    {
     "name": "stderr",
     "output_type": "stream",
     "text": [
      "/Users/vincent/Projects/專四下/進階AI課程/Prompt_Tuning_Stable_Diffusion/venv/lib/python3.9/site-packages/urllib3/__init__.py:35: NotOpenSSLWarning: urllib3 v2 only supports OpenSSL 1.1.1+, currently the 'ssl' module is compiled with 'LibreSSL 2.8.3'. See: https://github.com/urllib3/urllib3/issues/3020\n",
      "  warnings.warn(\n",
      "/Users/vincent/Projects/專四下/進階AI課程/Prompt_Tuning_Stable_Diffusion/venv/lib/python3.9/site-packages/sentence_transformers/cross_encoder/CrossEncoder.py:11: TqdmWarning: IProgress not found. Please update jupyter and ipywidgets. See https://ipywidgets.readthedocs.io/en/stable/user_install.html\n",
      "  from tqdm.autonotebook import tqdm, trange\n"
     ]
    }
   ],
   "source": [
    "from utils.LLM import RetrievalWithPrompt, IsGenerationalRequest, GenerateDescriptions, GenerateStyle, StyleCommandDistinguisher"
   ]
  },
  {
   "cell_type": "code",
   "execution_count": 2,
   "metadata": {},
   "outputs": [
    {
     "name": "stderr",
     "output_type": "stream",
     "text": [
      "/Users/vincent/Projects/專四下/進階AI課程/Prompt_Tuning_Stable_Diffusion/venv/lib/python3.9/site-packages/huggingface_hub/file_download.py:1132: FutureWarning: `resume_download` is deprecated and will be removed in version 1.0.0. Downloads always resume when possible. If you want to force a new download, use `force_download=True`.\n",
      "  warnings.warn(\n"
     ]
    }
   ],
   "source": [
    "# mode: 1=>remote sever 2=>local server\n",
    "retriever = RetrievalWithPrompt(mode=2) "
   ]
  },
  {
   "cell_type": "code",
   "execution_count": 3,
   "metadata": {},
   "outputs": [
    {
     "data": {
      "text/plain": [
       "[Document(page_content='a mix between a cat and a dog', metadata={'url': 'https://image.lexica.art/full_jpg/05058511-9713-4fa3-a56a-9d7e50fda8f1', 'source_site': 'lexica.art'}),\n",
       " Document(page_content='a mix of dog and cat', metadata={'url': 'https://image.lexica.art/full_jpg/2d7cb7ce-69fd-4da7-a3d8-79fc3821ed9f', 'source_site': 'lexica.art'}),\n",
       " Document(page_content='Cat with human feet', metadata={'url': 'https://image.lexica.art/full_jpg/007078fb-1faa-4749-807a-ea385acf50cb', 'source_site': 'lexica.art'}),\n",
       " Document(page_content='A cat wird red Skin', metadata={'url': 'https://image.lexica.art/full_jpg/27669c62-a5e5-47c2-808c-76f1871b4047', 'source_site': 'lexica.art'}),\n",
       " Document(page_content='fluffy white cat', metadata={'url': 'https://image.lexica.art/full_jpg/33b2ccfa-fc76-45ea-aa96-c4ab30bc8dee', 'source_site': 'lexica.art'})]"
      ]
     },
     "execution_count": 3,
     "metadata": {},
     "output_type": "execute_result"
    }
   ],
   "source": [
    "retriever.invoke(\"a cat\")"
   ]
  },
  {
   "cell_type": "code",
   "execution_count": 4,
   "metadata": {},
   "outputs": [],
   "source": [
    "judge = IsGenerationalRequest()"
   ]
  },
  {
   "cell_type": "code",
   "execution_count": 5,
   "metadata": {},
   "outputs": [
    {
     "data": {
      "text/plain": [
       "{'result': 'no'}"
      ]
     },
     "execution_count": 5,
     "metadata": {},
     "output_type": "execute_result"
    }
   ],
   "source": [
    "judge.invoke(\"a cat run on the street\")"
   ]
  },
  {
   "cell_type": "code",
   "execution_count": 6,
   "metadata": {},
   "outputs": [],
   "source": [
    "description_advisor = GenerateDescriptions()"
   ]
  },
  {
   "cell_type": "code",
   "execution_count": 7,
   "metadata": {},
   "outputs": [
    {
     "data": {
      "text/plain": [
       "{'result': ['A midnight black cat with a fiery coat speeds down the rain-soaked asphalt, its tail streaming behind like a banner of freedom as neon lights from a nearby diner flicker in the dark, casting an otherworldly glow.',\n",
       "  'In a blur of grey and white, a sleek feline form careens across the street, its eyes aglow like lanterns as it chases after a fluttering pigeon, leaving behind a trail of shattered glass and forgotten trash cans',\n",
       "  \"A tabby cat with a mottled coat of orange and cream zips down the sidewalk, its ears perked up like satellite dishes tuning in to the cacophony of car horns and city sounds, as pedestrians rush past, oblivious to the furry speedster's antics\"]}"
      ]
     },
     "execution_count": 7,
     "metadata": {},
     "output_type": "execute_result"
    }
   ],
   "source": [
    "description_advisor.invoke(\"a cat is running on the street\")"
   ]
  },
  {
   "cell_type": "code",
   "execution_count": 8,
   "metadata": {},
   "outputs": [
    {
     "data": {
      "text/plain": [
       "{'result': [\"A majestic lion with golden fur sprawls regally on a plush, velvet chair, its piercing gaze surveying the surroundings from beneath a crown of gleaming whiskers. The chair's ornate carvings and intricate upholstery provide a luxurious backdrop for the king of beasts' commanding presence.\",\n",
       "  'In a dimly lit study, a mighty lion with tawny fur reclines on a worn, leather armchair, its eyes gleaming like lanterns in the darkness as it surveys the scattered books and papers, as if pondering the secrets of the ancient world.',\n",
       "  \"A majestic lion perches effortlessly on a velvet throne, its shimmering golden coat glistening in the warm light of a crackling fire. The chair's delicate carvings depict scenes of savannah landscapes and mythical creatures, creating a whimsical backdrop for the regal feline's kingly pose.\"]}"
      ]
     },
     "execution_count": 8,
     "metadata": {},
     "output_type": "execute_result"
    }
   ],
   "source": [
    "description_advisor.invoke(\"A lion sitting on the chair\")"
   ]
  },
  {
   "cell_type": "code",
   "execution_count": 9,
   "metadata": {},
   "outputs": [],
   "source": [
    "# error_counter = 0\n",
    "# empty_counter = 0\n",
    "\n",
    "# for i in range(100):\n",
    "#     try:\n",
    "#         ans = description_advisor.invoke(\"a cat is running on the street\")\n",
    "#         # print(ans)\n",
    "#         if ans == {}:\n",
    "#             empty_counter += 1\n",
    "#     except:\n",
    "#         error_counter += 1\n",
    "\n",
    "# print(f\"empty_counter: {empty_counter}\")\n",
    "# print(f\"error_counter: {error_counter}\")"
   ]
  },
  {
   "cell_type": "code",
   "execution_count": 10,
   "metadata": {},
   "outputs": [
    {
     "name": "stdout",
     "output_type": "stream",
     "text": [
      "{'result': ['Watercolor', 'PixelArt', 'Neon', 'Impressionist', 'Illustrated', 'DigitalPaint']}\n"
     ]
    }
   ],
   "source": [
    "style_advisor = GenerateStyle()\n",
    "print(style_advisor.invoke(\"a cat is running on the street\"))"
   ]
  },
  {
   "cell_type": "code",
   "execution_count": 2,
   "metadata": {},
   "outputs": [
    {
     "name": "stdout",
     "output_type": "stream",
     "text": [
      "{'mode': 'preview', 'style': 'Watercolor'}\n",
      "{'mode': 'add', 'style': 'anime'}\n",
      "{'mode': 'final', 'style': ''}\n",
      "{'mode': 'add', 'style': 'oil painting'}\n",
      "{'mode': 'add', 'style': 'anime'}\n",
      "{'mode': 'final', 'style': ''}\n",
      "{'mode': 'add', 'style': 'anime'}\n"
     ]
    }
   ],
   "source": [
    "style_command_distinguisher = StyleCommandDistinguisher()\n",
    "print(style_command_distinguisher.invoke(\"I want a preview of the style of Watercolor\"))\n",
    "print(style_command_distinguisher.invoke(\"I want to try out the style of anime\"))\n",
    "print(style_command_distinguisher.invoke(\"I want to see the final result\"))\n",
    "print(style_command_distinguisher.invoke(\"add the style of oil painting\"))\n",
    "print(style_command_distinguisher.invoke(\"anime\"))\n",
    "print(style_command_distinguisher.invoke(\"that's it\"))\n",
    "print(style_command_distinguisher.invoke(\"how it will look like in anime style\"))\n"
   ]
  },
  {
   "cell_type": "code",
   "execution_count": null,
   "metadata": {},
   "outputs": [],
   "source": []
  }
 ],
 "metadata": {
  "kernelspec": {
   "display_name": "venv",
   "language": "python",
   "name": "python3"
  },
  "language_info": {
   "codemirror_mode": {
    "name": "ipython",
    "version": 3
   },
   "file_extension": ".py",
   "mimetype": "text/x-python",
   "name": "python",
   "nbconvert_exporter": "python",
   "pygments_lexer": "ipython3",
   "version": "3.9.6"
  }
 },
 "nbformat": 4,
 "nbformat_minor": 2
}
