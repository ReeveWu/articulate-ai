{
 "cells": [
  {
   "cell_type": "code",
   "execution_count": 1,
   "metadata": {},
   "outputs": [],
   "source": [
    "from langchain_community.document_loaders import TextLoader\n",
    "from langchain_community.vectorstores import FAISS\n",
    "from langchain_openai import OpenAIEmbeddings\n",
    "from langchain_text_splitters import CharacterTextSplitter\n",
    "\n",
    "import requests\n",
    "import numpy as np\n",
    "from typing import List, Optional\n",
    "from langchain_core.embeddings import Embeddings\n",
    "\n",
    "from utils.Embeddings import EmbeddingModel\n",
    "\n",
    "embeddings = EmbeddingModel()\n",
    "\n",
    "db = FAISS.load_local(\"prompt_index\", embeddings, allow_dangerous_deserialization=True)"
   ]
  },
  {
   "cell_type": "code",
   "execution_count": 3,
   "metadata": {},
   "outputs": [
    {
     "name": "stdout",
     "output_type": "stream",
     "text": [
      "page_content='Lion heart Jean Claude van Damme in the last battle with atilla' metadata={'url': 'https://image.lexica.art/full_jpg/0001a9b6-417c-426c-b25b-9b8f1e14aba1', 'source_site': 'lexica.art'}\n"
     ]
    }
   ],
   "source": [
    "query = \"A sitting lion\"\n",
    "\n",
    "retriever = db.as_retriever()\n",
    "docs = retriever.invoke(query)\n",
    "\n",
    "print(docs[0])"
   ]
  },
  {
   "cell_type": "code",
   "execution_count": null,
   "metadata": {},
   "outputs": [],
   "source": []
  }
 ],
 "metadata": {
  "kernelspec": {
   "display_name": ".venv",
   "language": "python",
   "name": "python3"
  },
  "language_info": {
   "codemirror_mode": {
    "name": "ipython",
    "version": 3
   },
   "file_extension": ".py",
   "mimetype": "text/x-python",
   "name": "python",
   "nbconvert_exporter": "python",
   "pygments_lexer": "ipython3",
   "version": "3.12.2"
  }
 },
 "nbformat": 4,
 "nbformat_minor": 2
}
