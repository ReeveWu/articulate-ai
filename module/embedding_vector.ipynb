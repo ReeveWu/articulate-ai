{
 "cells": [
  {
   "cell_type": "code",
   "execution_count": 1,
   "metadata": {},
   "outputs": [
    {
     "data": {
      "text/html": [
       "<div>\n",
       "<style scoped>\n",
       "    .dataframe tbody tr th:only-of-type {\n",
       "        vertical-align: middle;\n",
       "    }\n",
       "\n",
       "    .dataframe tbody tr th {\n",
       "        vertical-align: top;\n",
       "    }\n",
       "\n",
       "    .dataframe thead th {\n",
       "        text-align: right;\n",
       "    }\n",
       "</style>\n",
       "<table border=\"1\" class=\"dataframe\">\n",
       "  <thead>\n",
       "    <tr style=\"text-align: right;\">\n",
       "      <th></th>\n",
       "      <th>Unnamed: 0</th>\n",
       "      <th>id</th>\n",
       "      <th>prompt</th>\n",
       "      <th>url</th>\n",
       "      <th>width</th>\n",
       "      <th>height</th>\n",
       "      <th>source_site</th>\n",
       "    </tr>\n",
       "  </thead>\n",
       "  <tbody>\n",
       "    <tr>\n",
       "      <th>0</th>\n",
       "      <td>0</td>\n",
       "      <td>00000d0e-45cb-47b6-9f72-6a481e940d78</td>\n",
       "      <td>man waking up, dark and still room, cinematic ...</td>\n",
       "      <td>https://krea-prod-v1-generations.s3.us-east-1....</td>\n",
       "      <td>512</td>\n",
       "      <td>512</td>\n",
       "      <td>stablediffusionweb.com</td>\n",
       "    </tr>\n",
       "    <tr>\n",
       "      <th>1</th>\n",
       "      <td>1</td>\n",
       "      <td>00001a8f-993f-4d69-8fd2-f7d69dc1e8ef</td>\n",
       "      <td>Yate con familia feliz navegando por el mar ca...</td>\n",
       "      <td>https://image.lexica.art/full_jpg/00001a8f-993...</td>\n",
       "      <td>640</td>\n",
       "      <td>640</td>\n",
       "      <td>lexica.art</td>\n",
       "    </tr>\n",
       "    <tr>\n",
       "      <th>2</th>\n",
       "      <td>2</td>\n",
       "      <td>00002cfc-8170-4a93-a1f8-aa5681cb5f71</td>\n",
       "      <td>Many friendly alien race individuals. fantasy,...</td>\n",
       "      <td>https://image.lexica.art/full_jpg/00002cfc-817...</td>\n",
       "      <td>512</td>\n",
       "      <td>768</td>\n",
       "      <td>lexica.art</td>\n",
       "    </tr>\n",
       "  </tbody>\n",
       "</table>\n",
       "</div>"
      ],
      "text/plain": [
       "   Unnamed: 0                                    id  \\\n",
       "0           0  00000d0e-45cb-47b6-9f72-6a481e940d78   \n",
       "1           1  00001a8f-993f-4d69-8fd2-f7d69dc1e8ef   \n",
       "2           2  00002cfc-8170-4a93-a1f8-aa5681cb5f71   \n",
       "\n",
       "                                              prompt  \\\n",
       "0  man waking up, dark and still room, cinematic ...   \n",
       "1  Yate con familia feliz navegando por el mar ca...   \n",
       "2  Many friendly alien race individuals. fantasy,...   \n",
       "\n",
       "                                                 url  width  height  \\\n",
       "0  https://krea-prod-v1-generations.s3.us-east-1....    512     512   \n",
       "1  https://image.lexica.art/full_jpg/00001a8f-993...    640     640   \n",
       "2  https://image.lexica.art/full_jpg/00002cfc-817...    512     768   \n",
       "\n",
       "              source_site  \n",
       "0  stablediffusionweb.com  \n",
       "1              lexica.art  \n",
       "2              lexica.art  "
      ]
     },
     "execution_count": 1,
     "metadata": {},
     "output_type": "execute_result"
    }
   ],
   "source": [
    "import pandas as pd\n",
    "\n",
    "df = pd.read_csv('../data/diffusion_prompts.csv')\n",
    "\n",
    "df = df.drop_duplicates(subset='prompt', keep='first').iloc[:100, :]\n",
    "\n",
    "df.head(3)"
   ]
  },
  {
   "cell_type": "code",
   "execution_count": 23,
   "metadata": {},
   "outputs": [
    {
     "data": {
      "text/plain": [
       "(100, 7)"
      ]
     },
     "execution_count": 23,
     "metadata": {},
     "output_type": "execute_result"
    }
   ],
   "source": [
    "df.shape"
   ]
  },
  {
   "cell_type": "code",
   "execution_count": 24,
   "metadata": {},
   "outputs": [],
   "source": [
    "from langchain.schema import Document\n",
    "\n",
    "documents = []\n",
    "for index, row in df.iterrows():\n",
    "    page_content = row['prompt']\n",
    "    metadata = {\n",
    "        'url': row['url'],\n",
    "        'source_site': row['source_site']\n",
    "    }\n",
    "    \n",
    "    document = Document(\n",
    "        page_content=page_content,\n",
    "        metadata=metadata\n",
    "    )\n",
    "    \n",
    "    documents.append(document)"
   ]
  },
  {
   "cell_type": "code",
   "execution_count": 25,
   "metadata": {},
   "outputs": [
    {
     "name": "stdout",
     "output_type": "stream",
     "text": [
      "100\n"
     ]
    }
   ],
   "source": [
    "from langchain_community.document_loaders import TextLoader\n",
    "from langchain_community.vectorstores import FAISS\n",
    "from langchain_openai import OpenAIEmbeddings\n",
    "from langchain_text_splitters import CharacterTextSplitter\n",
    "\n",
    "from utils.Embeddings import EmbeddingModel\n",
    "\n",
    "embeddings = EmbeddingModel()\n",
    "db = FAISS.from_documents(documents, embeddings)\n",
    "print(db.index.ntotal)"
   ]
  },
  {
   "cell_type": "code",
   "execution_count": 26,
   "metadata": {},
   "outputs": [
    {
     "name": "stdout",
     "output_type": "stream",
     "text": [
      "Caucasian male, European male, wearing gold ornaments, looking into camera, photo realistic\n"
     ]
    }
   ],
   "source": [
    "query = \"man\"\n",
    "docs = db.similarity_search(query)\n",
    "\n",
    "print(docs[0].page_content)"
   ]
  },
  {
   "cell_type": "code",
   "execution_count": 27,
   "metadata": {},
   "outputs": [
    {
     "name": "stdout",
     "output_type": "stream",
     "text": [
      "page_content='Caucasian male, European male, wearing gold ornaments, looking into camera, photo realistic' metadata={'url': 'https://image.lexica.art/full_jpg/8c0f02fb-eb82-4c2d-939d-69ab0eb89967', 'source_site': 'lexica.art'}\n"
     ]
    }
   ],
   "source": [
    "retriever = db.as_retriever()\n",
    "docs = retriever.invoke(query)\n",
    "\n",
    "print(docs[0])"
   ]
  },
  {
   "cell_type": "code",
   "execution_count": 28,
   "metadata": {},
   "outputs": [],
   "source": [
    "db.save_local(\"../data/prompt_index\")"
   ]
  },
  {
   "cell_type": "code",
   "execution_count": null,
   "metadata": {},
   "outputs": [],
   "source": []
  }
 ],
 "metadata": {
  "kernelspec": {
   "display_name": ".venv",
   "language": "python",
   "name": "python3"
  },
  "language_info": {
   "codemirror_mode": {
    "name": "ipython",
    "version": 3
   },
   "file_extension": ".py",
   "mimetype": "text/x-python",
   "name": "python",
   "nbconvert_exporter": "python",
   "pygments_lexer": "ipython3",
   "version": "3.12.2"
  }
 },
 "nbformat": 4,
 "nbformat_minor": 2
}
